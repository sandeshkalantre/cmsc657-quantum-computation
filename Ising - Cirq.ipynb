{
 "cells": [
  {
   "cell_type": "markdown",
   "metadata": {},
   "source": [
    "# Ising - Cirq\n",
    "I will use this notebook to simulate a Ising model on a 2D lattice. The aim is to estimate the ground state energy using a quantum adiabatic optimization algorithm.\n",
    "\n",
    "Let $s_i \\in {0,1}$ be classical spin variables taking values on a 2D lattice. The aim is to minimize the energy function $E(s_1,\\ldots,s_n) = \\sum_{\\langle ij \\rangle} J_{i,j} s_i s_j + \\sum_{i} h_i s_i $ where $J_{i,j}$ and $h_i$ are predefined model parameters and $\\langle ij \\rangle$ denotes nearest neighbours. \n",
    "\n",
    "To solve this problem quantumly, we map it to the Hamiltonian for spins on a 2D lattice,\n",
    "\n",
    "$$ H = -\\sum_{\\langle ij \\rangle} J_{i,j} Z_i Z_j + \\sum_{i} h_i Z_i $$\n",
    "\n",
    "where $Z_i$ are Pauli Z operators.\n",
    "\n",
    "We prepare a quantum state $|\\psi(p_1,\\ldots,p_k) \\rangle$ parametrized by $p_1,\\ldots,p_k$. We can use a quantum circuit on $|\\psi \\rangle$ to get the state $H | \\psi \\rangle$. A measurement on this state in the computational basis will sample values of the objective funciton $E(s_1,\\ldots,s_n)$ and the hope is that this will allow us to estimate the lowest value of E.\n",
    "\n",
    "For the purpose of this notebook, I will assume that $J_{i,j} = J$ and $h_i = h$ are fixed."
   ]
  },
  {
   "cell_type": "code",
   "execution_count": 1,
   "metadata": {},
   "outputs": [],
   "source": [
    "import numpy as np\n",
    "import matplotlib.pyplot as plt\n",
    "%matplotlib inline\n",
    "import cirq\n",
    "import random"
   ]
  },
  {
   "cell_type": "code",
   "execution_count": 2,
   "metadata": {},
   "outputs": [],
   "source": [
    "# define qubits on a grid of side length\n",
    "length = 3\n",
    "qubits = [cirq.GridQubit(i, j) for i in range(length) for j in range(length)]"
   ]
  },
  {
   "cell_type": "code",
   "execution_count": 5,
   "metadata": {},
   "outputs": [],
   "source": [
    "def rot_x(length,angle_half_turns):\n",
    "    gate = cirq.XPowGate(exponent)"
   ]
  },
  {
   "cell_type": "markdown",
   "metadata": {},
   "source": [
    "# Update\n",
    "I am dropping this idea. My idea was to use this to study the ferromagnetic to paramagnetic phase transition. But, I overlooked that this transition happens with temperature. I looked around at $T = 0$ phase transitions, but I could not a find a simple example that can be applied using the QAOA ansatz. I am moving to a different idea. "
   ]
  },
  {
   "cell_type": "code",
   "execution_count": null,
   "metadata": {},
   "outputs": [],
   "source": []
  }
 ],
 "metadata": {
  "kernelspec": {
   "display_name": "Python 3",
   "language": "python",
   "name": "python3"
  },
  "language_info": {
   "codemirror_mode": {
    "name": "ipython",
    "version": 3
   },
   "file_extension": ".py",
   "mimetype": "text/x-python",
   "name": "python",
   "nbconvert_exporter": "python",
   "pygments_lexer": "ipython3",
   "version": "3.6.5"
  }
 },
 "nbformat": 4,
 "nbformat_minor": 2
}
